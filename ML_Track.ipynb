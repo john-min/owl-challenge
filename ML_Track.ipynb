{
 "cells": [
  {
   "cell_type": "markdown",
   "metadata": {},
   "source": [
    "**Author**: Min  \n",
    "**Date**: December 31, 2019  \n",
    "**Approach**: Implemented XGBoost classifier, determined optimal threshold value to maximize F1 score, and used stratified 5-fold cross-validation to estimate the AUC.  \n",
    "**Estimated AUC**: 0.8456"
   ]
  },
  {
   "cell_type": "markdown",
   "metadata": {},
   "source": [
    "## 1. I/O + Preprocessing"
   ]
  },
  {
   "cell_type": "code",
   "execution_count": 1,
   "metadata": {},
   "outputs": [],
   "source": [
    "import os\n",
    "os.environ['KMP_DUPLICATE_LIB_OK']='True'\n",
    "\n",
    "import pandas as pd\n",
    "import numpy as np\n",
    "import matplotlib.pyplot as plt\n",
    "import seaborn as sns\n",
    "import xgboost as xgb\n",
    "from sklearn.metrics import accuracy_score, auc, classification_report, confusion_matrix, roc_curve\n",
    "from sklearn.model_selection import train_test_split, StratifiedKFold\n",
    "from sklearn.pipeline import Pipeline, make_pipeline\n",
    "from sklearn.preprocessing import StandardScaler, LabelEncoder\n",
    "%matplotlib inline"
   ]
  },
  {
   "cell_type": "code",
   "execution_count": 2,
   "metadata": {},
   "outputs": [],
   "source": [
    "train = pd.read_csv('train.csv')\n",
    "test = pd.read_csv('test.csv')"
   ]
  },
  {
   "cell_type": "code",
   "execution_count": 3,
   "metadata": {},
   "outputs": [],
   "source": [
    "train['gender'] = train['gender'].map({'M': 1, 'F': 0})\n",
    "df = pd.get_dummies(train, columns=['device_type'])\n",
    "\n",
    "X = df.drop('outcome', axis=1)\n",
    "y = df['outcome']\n",
    "\n",
    "test['gender'] = test['gender'].map({'M': 1, 'F': 0})\n",
    "test_df = pd.get_dummies(test, columns=['device_type'])"
   ]
  },
  {
   "cell_type": "markdown",
   "metadata": {},
   "source": [
    "## 2. Exploratory Data Analysis"
   ]
  },
  {
   "cell_type": "markdown",
   "metadata": {},
   "source": [
    "#### The dependent variable, outcome, is highly imbalanced."
   ]
  },
  {
   "cell_type": "code",
   "execution_count": 4,
   "metadata": {},
   "outputs": [
    {
     "data": {
      "text/plain": [
       "0    0.9018\n",
       "1    0.0982\n",
       "Name: outcome, dtype: float64"
      ]
     },
     "execution_count": 4,
     "metadata": {},
     "output_type": "execute_result"
    }
   ],
   "source": [
    "train['outcome'].value_counts(normalize=True)"
   ]
  },
  {
   "cell_type": "markdown",
   "metadata": {},
   "source": [
    "#### The distributions between the train and test features appear to be similar."
   ]
  },
  {
   "cell_type": "code",
   "execution_count": 5,
   "metadata": {},
   "outputs": [
    {
     "data": {
      "text/html": [
       "<div>\n",
       "<style scoped>\n",
       "    .dataframe tbody tr th:only-of-type {\n",
       "        vertical-align: middle;\n",
       "    }\n",
       "\n",
       "    .dataframe tbody tr th {\n",
       "        vertical-align: top;\n",
       "    }\n",
       "\n",
       "    .dataframe thead th {\n",
       "        text-align: right;\n",
       "    }\n",
       "</style>\n",
       "<table border=\"1\" class=\"dataframe\">\n",
       "  <thead>\n",
       "    <tr style=\"text-align: right;\">\n",
       "      <th></th>\n",
       "      <th>age</th>\n",
       "      <th>cost_of_ad</th>\n",
       "      <th>gender</th>\n",
       "      <th>in_initial_launch_location</th>\n",
       "      <th>income</th>\n",
       "      <th>n_drivers</th>\n",
       "      <th>n_vehicles</th>\n",
       "      <th>prior_ins_tenure</th>\n",
       "      <th>outcome</th>\n",
       "      <th>device_type_Android</th>\n",
       "      <th>device_type_desktop</th>\n",
       "      <th>device_type_iPhone</th>\n",
       "      <th>device_type_laptop</th>\n",
       "      <th>device_type_other</th>\n",
       "    </tr>\n",
       "  </thead>\n",
       "  <tbody>\n",
       "    <tr>\n",
       "      <th>count</th>\n",
       "      <td>10000.000000</td>\n",
       "      <td>10000.000000</td>\n",
       "      <td>9731.000000</td>\n",
       "      <td>10000.000000</td>\n",
       "      <td>10000.000000</td>\n",
       "      <td>10000.000000</td>\n",
       "      <td>10000.00000</td>\n",
       "      <td>10000.000000</td>\n",
       "      <td>10000.0000</td>\n",
       "      <td>10000.000000</td>\n",
       "      <td>10000.0000</td>\n",
       "      <td>10000.0000</td>\n",
       "      <td>10000.000000</td>\n",
       "      <td>10000.000000</td>\n",
       "    </tr>\n",
       "    <tr>\n",
       "      <th>mean</th>\n",
       "      <td>37.991800</td>\n",
       "      <td>0.004666</td>\n",
       "      <td>0.489261</td>\n",
       "      <td>0.497500</td>\n",
       "      <td>58004.335800</td>\n",
       "      <td>1.497000</td>\n",
       "      <td>2.00220</td>\n",
       "      <td>5.406800</td>\n",
       "      <td>0.0982</td>\n",
       "      <td>0.202300</td>\n",
       "      <td>0.2032</td>\n",
       "      <td>0.1968</td>\n",
       "      <td>0.199100</td>\n",
       "      <td>0.198600</td>\n",
       "    </tr>\n",
       "    <tr>\n",
       "      <th>std</th>\n",
       "      <td>13.038203</td>\n",
       "      <td>0.000838</td>\n",
       "      <td>0.499910</td>\n",
       "      <td>0.500019</td>\n",
       "      <td>17330.778355</td>\n",
       "      <td>0.500016</td>\n",
       "      <td>0.81784</td>\n",
       "      <td>5.046014</td>\n",
       "      <td>0.2976</td>\n",
       "      <td>0.401735</td>\n",
       "      <td>0.4024</td>\n",
       "      <td>0.3976</td>\n",
       "      <td>0.399343</td>\n",
       "      <td>0.398966</td>\n",
       "    </tr>\n",
       "    <tr>\n",
       "      <th>min</th>\n",
       "      <td>16.000000</td>\n",
       "      <td>0.003171</td>\n",
       "      <td>0.000000</td>\n",
       "      <td>0.000000</td>\n",
       "      <td>16241.000000</td>\n",
       "      <td>1.000000</td>\n",
       "      <td>1.00000</td>\n",
       "      <td>0.000000</td>\n",
       "      <td>0.0000</td>\n",
       "      <td>0.000000</td>\n",
       "      <td>0.0000</td>\n",
       "      <td>0.0000</td>\n",
       "      <td>0.000000</td>\n",
       "      <td>0.000000</td>\n",
       "    </tr>\n",
       "    <tr>\n",
       "      <th>25%</th>\n",
       "      <td>27.000000</td>\n",
       "      <td>0.003995</td>\n",
       "      <td>0.000000</td>\n",
       "      <td>0.000000</td>\n",
       "      <td>45533.500000</td>\n",
       "      <td>1.000000</td>\n",
       "      <td>1.00000</td>\n",
       "      <td>1.000000</td>\n",
       "      <td>0.0000</td>\n",
       "      <td>0.000000</td>\n",
       "      <td>0.0000</td>\n",
       "      <td>0.0000</td>\n",
       "      <td>0.000000</td>\n",
       "      <td>0.000000</td>\n",
       "    </tr>\n",
       "    <tr>\n",
       "      <th>50%</th>\n",
       "      <td>38.000000</td>\n",
       "      <td>0.004625</td>\n",
       "      <td>0.000000</td>\n",
       "      <td>0.000000</td>\n",
       "      <td>58053.500000</td>\n",
       "      <td>1.000000</td>\n",
       "      <td>2.00000</td>\n",
       "      <td>4.000000</td>\n",
       "      <td>0.0000</td>\n",
       "      <td>0.000000</td>\n",
       "      <td>0.0000</td>\n",
       "      <td>0.0000</td>\n",
       "      <td>0.000000</td>\n",
       "      <td>0.000000</td>\n",
       "    </tr>\n",
       "    <tr>\n",
       "      <th>75%</th>\n",
       "      <td>49.000000</td>\n",
       "      <td>0.005164</td>\n",
       "      <td>1.000000</td>\n",
       "      <td>1.000000</td>\n",
       "      <td>70235.250000</td>\n",
       "      <td>2.000000</td>\n",
       "      <td>3.00000</td>\n",
       "      <td>8.000000</td>\n",
       "      <td>0.0000</td>\n",
       "      <td>0.000000</td>\n",
       "      <td>0.0000</td>\n",
       "      <td>0.0000</td>\n",
       "      <td>0.000000</td>\n",
       "      <td>0.000000</td>\n",
       "    </tr>\n",
       "    <tr>\n",
       "      <th>max</th>\n",
       "      <td>60.000000</td>\n",
       "      <td>0.007082</td>\n",
       "      <td>1.000000</td>\n",
       "      <td>1.000000</td>\n",
       "      <td>99956.000000</td>\n",
       "      <td>2.000000</td>\n",
       "      <td>3.00000</td>\n",
       "      <td>22.000000</td>\n",
       "      <td>1.0000</td>\n",
       "      <td>1.000000</td>\n",
       "      <td>1.0000</td>\n",
       "      <td>1.0000</td>\n",
       "      <td>1.000000</td>\n",
       "      <td>1.000000</td>\n",
       "    </tr>\n",
       "  </tbody>\n",
       "</table>\n",
       "</div>"
      ],
      "text/plain": [
       "                age    cost_of_ad       gender  in_initial_launch_location  \\\n",
       "count  10000.000000  10000.000000  9731.000000                10000.000000   \n",
       "mean      37.991800      0.004666     0.489261                    0.497500   \n",
       "std       13.038203      0.000838     0.499910                    0.500019   \n",
       "min       16.000000      0.003171     0.000000                    0.000000   \n",
       "25%       27.000000      0.003995     0.000000                    0.000000   \n",
       "50%       38.000000      0.004625     0.000000                    0.000000   \n",
       "75%       49.000000      0.005164     1.000000                    1.000000   \n",
       "max       60.000000      0.007082     1.000000                    1.000000   \n",
       "\n",
       "             income     n_drivers   n_vehicles  prior_ins_tenure     outcome  \\\n",
       "count  10000.000000  10000.000000  10000.00000      10000.000000  10000.0000   \n",
       "mean   58004.335800      1.497000      2.00220          5.406800      0.0982   \n",
       "std    17330.778355      0.500016      0.81784          5.046014      0.2976   \n",
       "min    16241.000000      1.000000      1.00000          0.000000      0.0000   \n",
       "25%    45533.500000      1.000000      1.00000          1.000000      0.0000   \n",
       "50%    58053.500000      1.000000      2.00000          4.000000      0.0000   \n",
       "75%    70235.250000      2.000000      3.00000          8.000000      0.0000   \n",
       "max    99956.000000      2.000000      3.00000         22.000000      1.0000   \n",
       "\n",
       "       device_type_Android  device_type_desktop  device_type_iPhone  \\\n",
       "count         10000.000000           10000.0000          10000.0000   \n",
       "mean              0.202300               0.2032              0.1968   \n",
       "std               0.401735               0.4024              0.3976   \n",
       "min               0.000000               0.0000              0.0000   \n",
       "25%               0.000000               0.0000              0.0000   \n",
       "50%               0.000000               0.0000              0.0000   \n",
       "75%               0.000000               0.0000              0.0000   \n",
       "max               1.000000               1.0000              1.0000   \n",
       "\n",
       "       device_type_laptop  device_type_other  \n",
       "count        10000.000000       10000.000000  \n",
       "mean             0.199100           0.198600  \n",
       "std              0.399343           0.398966  \n",
       "min              0.000000           0.000000  \n",
       "25%              0.000000           0.000000  \n",
       "50%              0.000000           0.000000  \n",
       "75%              0.000000           0.000000  \n",
       "max              1.000000           1.000000  "
      ]
     },
     "execution_count": 5,
     "metadata": {},
     "output_type": "execute_result"
    }
   ],
   "source": [
    "df.describe()"
   ]
  },
  {
   "cell_type": "code",
   "execution_count": 6,
   "metadata": {},
   "outputs": [
    {
     "data": {
      "text/html": [
       "<div>\n",
       "<style scoped>\n",
       "    .dataframe tbody tr th:only-of-type {\n",
       "        vertical-align: middle;\n",
       "    }\n",
       "\n",
       "    .dataframe tbody tr th {\n",
       "        vertical-align: top;\n",
       "    }\n",
       "\n",
       "    .dataframe thead th {\n",
       "        text-align: right;\n",
       "    }\n",
       "</style>\n",
       "<table border=\"1\" class=\"dataframe\">\n",
       "  <thead>\n",
       "    <tr style=\"text-align: right;\">\n",
       "      <th></th>\n",
       "      <th>age</th>\n",
       "      <th>cost_of_ad</th>\n",
       "      <th>gender</th>\n",
       "      <th>in_initial_launch_location</th>\n",
       "      <th>income</th>\n",
       "      <th>n_drivers</th>\n",
       "      <th>n_vehicles</th>\n",
       "      <th>prior_ins_tenure</th>\n",
       "      <th>device_type_Android</th>\n",
       "      <th>device_type_desktop</th>\n",
       "      <th>device_type_iPhone</th>\n",
       "      <th>device_type_laptop</th>\n",
       "      <th>device_type_other</th>\n",
       "    </tr>\n",
       "  </thead>\n",
       "  <tbody>\n",
       "    <tr>\n",
       "      <th>count</th>\n",
       "      <td>10000.000000</td>\n",
       "      <td>10000.000000</td>\n",
       "      <td>9751.000000</td>\n",
       "      <td>10000.000000</td>\n",
       "      <td>10000.000000</td>\n",
       "      <td>10000.000000</td>\n",
       "      <td>10000.000000</td>\n",
       "      <td>10000.000000</td>\n",
       "      <td>10000.000000</td>\n",
       "      <td>10000.000000</td>\n",
       "      <td>10000.000000</td>\n",
       "      <td>10000.000000</td>\n",
       "      <td>10000.00000</td>\n",
       "    </tr>\n",
       "    <tr>\n",
       "      <th>mean</th>\n",
       "      <td>38.029200</td>\n",
       "      <td>0.004668</td>\n",
       "      <td>0.496872</td>\n",
       "      <td>0.500900</td>\n",
       "      <td>58232.104800</td>\n",
       "      <td>1.486300</td>\n",
       "      <td>2.009100</td>\n",
       "      <td>5.319800</td>\n",
       "      <td>0.198300</td>\n",
       "      <td>0.200700</td>\n",
       "      <td>0.197900</td>\n",
       "      <td>0.195900</td>\n",
       "      <td>0.20720</td>\n",
       "    </tr>\n",
       "    <tr>\n",
       "      <th>std</th>\n",
       "      <td>12.896921</td>\n",
       "      <td>0.000836</td>\n",
       "      <td>0.500016</td>\n",
       "      <td>0.500024</td>\n",
       "      <td>17318.192722</td>\n",
       "      <td>0.499837</td>\n",
       "      <td>0.817242</td>\n",
       "      <td>5.019487</td>\n",
       "      <td>0.398739</td>\n",
       "      <td>0.400544</td>\n",
       "      <td>0.398436</td>\n",
       "      <td>0.396912</td>\n",
       "      <td>0.40532</td>\n",
       "    </tr>\n",
       "    <tr>\n",
       "      <th>min</th>\n",
       "      <td>16.000000</td>\n",
       "      <td>0.003173</td>\n",
       "      <td>0.000000</td>\n",
       "      <td>0.000000</td>\n",
       "      <td>16124.000000</td>\n",
       "      <td>1.000000</td>\n",
       "      <td>1.000000</td>\n",
       "      <td>0.000000</td>\n",
       "      <td>0.000000</td>\n",
       "      <td>0.000000</td>\n",
       "      <td>0.000000</td>\n",
       "      <td>0.000000</td>\n",
       "      <td>0.00000</td>\n",
       "    </tr>\n",
       "    <tr>\n",
       "      <th>25%</th>\n",
       "      <td>27.000000</td>\n",
       "      <td>0.004000</td>\n",
       "      <td>0.000000</td>\n",
       "      <td>0.000000</td>\n",
       "      <td>45575.250000</td>\n",
       "      <td>1.000000</td>\n",
       "      <td>1.000000</td>\n",
       "      <td>1.000000</td>\n",
       "      <td>0.000000</td>\n",
       "      <td>0.000000</td>\n",
       "      <td>0.000000</td>\n",
       "      <td>0.000000</td>\n",
       "      <td>0.00000</td>\n",
       "    </tr>\n",
       "    <tr>\n",
       "      <th>50%</th>\n",
       "      <td>38.000000</td>\n",
       "      <td>0.004609</td>\n",
       "      <td>0.000000</td>\n",
       "      <td>1.000000</td>\n",
       "      <td>58271.000000</td>\n",
       "      <td>1.000000</td>\n",
       "      <td>2.000000</td>\n",
       "      <td>4.000000</td>\n",
       "      <td>0.000000</td>\n",
       "      <td>0.000000</td>\n",
       "      <td>0.000000</td>\n",
       "      <td>0.000000</td>\n",
       "      <td>0.00000</td>\n",
       "    </tr>\n",
       "    <tr>\n",
       "      <th>75%</th>\n",
       "      <td>49.000000</td>\n",
       "      <td>0.005175</td>\n",
       "      <td>1.000000</td>\n",
       "      <td>1.000000</td>\n",
       "      <td>70438.750000</td>\n",
       "      <td>2.000000</td>\n",
       "      <td>3.000000</td>\n",
       "      <td>8.000000</td>\n",
       "      <td>0.000000</td>\n",
       "      <td>0.000000</td>\n",
       "      <td>0.000000</td>\n",
       "      <td>0.000000</td>\n",
       "      <td>0.00000</td>\n",
       "    </tr>\n",
       "    <tr>\n",
       "      <th>max</th>\n",
       "      <td>60.000000</td>\n",
       "      <td>0.007049</td>\n",
       "      <td>1.000000</td>\n",
       "      <td>1.000000</td>\n",
       "      <td>99916.000000</td>\n",
       "      <td>2.000000</td>\n",
       "      <td>3.000000</td>\n",
       "      <td>22.000000</td>\n",
       "      <td>1.000000</td>\n",
       "      <td>1.000000</td>\n",
       "      <td>1.000000</td>\n",
       "      <td>1.000000</td>\n",
       "      <td>1.00000</td>\n",
       "    </tr>\n",
       "  </tbody>\n",
       "</table>\n",
       "</div>"
      ],
      "text/plain": [
       "                age    cost_of_ad       gender  in_initial_launch_location  \\\n",
       "count  10000.000000  10000.000000  9751.000000                10000.000000   \n",
       "mean      38.029200      0.004668     0.496872                    0.500900   \n",
       "std       12.896921      0.000836     0.500016                    0.500024   \n",
       "min       16.000000      0.003173     0.000000                    0.000000   \n",
       "25%       27.000000      0.004000     0.000000                    0.000000   \n",
       "50%       38.000000      0.004609     0.000000                    1.000000   \n",
       "75%       49.000000      0.005175     1.000000                    1.000000   \n",
       "max       60.000000      0.007049     1.000000                    1.000000   \n",
       "\n",
       "             income     n_drivers    n_vehicles  prior_ins_tenure  \\\n",
       "count  10000.000000  10000.000000  10000.000000      10000.000000   \n",
       "mean   58232.104800      1.486300      2.009100          5.319800   \n",
       "std    17318.192722      0.499837      0.817242          5.019487   \n",
       "min    16124.000000      1.000000      1.000000          0.000000   \n",
       "25%    45575.250000      1.000000      1.000000          1.000000   \n",
       "50%    58271.000000      1.000000      2.000000          4.000000   \n",
       "75%    70438.750000      2.000000      3.000000          8.000000   \n",
       "max    99916.000000      2.000000      3.000000         22.000000   \n",
       "\n",
       "       device_type_Android  device_type_desktop  device_type_iPhone  \\\n",
       "count         10000.000000         10000.000000        10000.000000   \n",
       "mean              0.198300             0.200700            0.197900   \n",
       "std               0.398739             0.400544            0.398436   \n",
       "min               0.000000             0.000000            0.000000   \n",
       "25%               0.000000             0.000000            0.000000   \n",
       "50%               0.000000             0.000000            0.000000   \n",
       "75%               0.000000             0.000000            0.000000   \n",
       "max               1.000000             1.000000            1.000000   \n",
       "\n",
       "       device_type_laptop  device_type_other  \n",
       "count        10000.000000        10000.00000  \n",
       "mean             0.195900            0.20720  \n",
       "std              0.396912            0.40532  \n",
       "min              0.000000            0.00000  \n",
       "25%              0.000000            0.00000  \n",
       "50%              0.000000            0.00000  \n",
       "75%              0.000000            0.00000  \n",
       "max              1.000000            1.00000  "
      ]
     },
     "execution_count": 6,
     "metadata": {},
     "output_type": "execute_result"
    }
   ],
   "source": [
    "test_df.describe()"
   ]
  },
  {
   "cell_type": "markdown",
   "metadata": {},
   "source": [
    "## 3. Fit classification model"
   ]
  },
  {
   "cell_type": "code",
   "execution_count": 7,
   "metadata": {},
   "outputs": [
    {
     "data": {
      "text/plain": [
       "XGBClassifier(base_score=0.5, booster='gbtree', colsample_bylevel=1,\n",
       "       colsample_bynode=1, colsample_bytree=1, eval_metric='auc', gamma=0,\n",
       "       learning_rate=0.05, max_delta_step=0, max_depth=3,\n",
       "       min_child_weight=1, missing=None, n_estimators=100, n_jobs=1,\n",
       "       nthread=None, objective='binary:logistic', random_state=1,\n",
       "       reg_alpha=0, reg_lambda=1, scale_pos_weight=1, seed=None,\n",
       "       silent=None, subsample=1, verbosity=1)"
      ]
     },
     "execution_count": 7,
     "metadata": {},
     "output_type": "execute_result"
    }
   ],
   "source": [
    "X_train, X_test, y_train, y_test = train_test_split(\n",
    "    X,y,test_size=0.2, random_state=30, stratify=y)\n",
    "\n",
    "eval_set = [(X_train, y_train), (X_test, y_test)]\n",
    "\n",
    "model = xgb.XGBClassifier(\n",
    "    objective = 'binary:logistic', \n",
    "    eval_metric = 'auc',\n",
    "    random_state = 1, \n",
    "    learning_rate = 0.05\n",
    ")\n",
    "\n",
    "model.fit(X_train, y_train, early_stopping_rounds=10, eval_metric='auc', \n",
    "          eval_set=eval_set, verbose=False)"
   ]
  },
  {
   "cell_type": "code",
   "execution_count": 8,
   "metadata": {},
   "outputs": [
    {
     "data": {
      "text/plain": [
       "<matplotlib.axes._subplots.AxesSubplot at 0x1a19e18c50>"
      ]
     },
     "execution_count": 8,
     "metadata": {},
     "output_type": "execute_result"
    },
    {
     "data": {
      "image/png": "[encoded data removed]",
      "text/plain": [
       "<Figure size 432x288 with 1 Axes>"
      ]
     },
     "metadata": {
      "needs_background": "light"
     },
     "output_type": "display_data"
    }
   ],
   "source": [
    "# Predict probabilities on test set\n",
    "y_pred_prob = model.predict_proba(X_test)[:, 1]\n",
    "sns.distplot(y_pred_prob)"
   ]
  },
  {
   "cell_type": "code",
   "execution_count": 9,
   "metadata": {},
   "outputs": [
    {
     "data": {
      "text/plain": [
       "<matplotlib.axes._subplots.AxesSubplot at 0x1a19f50e48>"
      ]
     },
     "execution_count": 9,
     "metadata": {},
     "output_type": "execute_result"
    },
    {
     "data": {
      "image/png": "[encoded data removed]",
      "text/plain": [
       "<Figure size 432x288 with 1 Axes>"
      ]
     },
     "metadata": {
      "needs_background": "light"
     },
     "output_type": "display_data"
    }
   ],
   "source": [
    "# Plot feature importances\n",
    "xgb.plot_importance(model)"
   ]
  },
  {
   "cell_type": "markdown",
   "metadata": {},
   "source": [
    "### 3.1 Compute ROC & AUC"
   ]
  },
  {
   "cell_type": "code",
   "execution_count": 10,
   "metadata": {},
   "outputs": [
    {
     "data": {
      "image/png": "[encoded data removed]",
      "text/plain": [
       "<Figure size 432x288 with 1 Axes>"
      ]
     },
     "metadata": {
      "needs_background": "light"
     },
     "output_type": "display_data"
    }
   ],
   "source": [
    "# Compute ROC metrics\n",
    "fp, tp, thresholds = roc_curve(y_test, y_pred_prob, pos_label=1)\n",
    "roc_auc = auc(fp, tp)\n",
    "\n",
    "# Plot ROC curve\n",
    "plt.figure()\n",
    "plt.title('Receiver Operating Characteristic')\n",
    "plt.plot(fp, tp, 'b', label='AUC = %0.3f'% roc_auc)\n",
    "plt.legend(loc='lower right')\n",
    "plt.plot([0,1],[0,1],'r--')\n",
    "plt.xlim([-0.1,1.2])\n",
    "plt.ylim([-0.1,1.2])\n",
    "plt.ylabel('True Positive Rate')\n",
    "plt.xlabel('False Positive Rate')\n",
    "plt.show()"
   ]
  },
  {
   "cell_type": "code",
   "execution_count": 11,
   "metadata": {},
   "outputs": [
    {
     "name": "stdout",
     "output_type": "stream",
     "text": [
      "optimal threshold: 0.1468516\n"
     ]
    },
    {
     "data": {
      "image/png": "[encoded data removed]",
      "text/plain": [
       "<Figure size 1152x432 with 2 Axes>"
      ]
     },
     "metadata": {
      "needs_background": "light"
     },
     "output_type": "display_data"
    }
   ],
   "source": [
    "fig, ax = plt.subplots(nrows=1, ncols=2, figsize=(16,6))\n",
    "\n",
    "ax[0].plot(thresholds, tp + (1 - fp))\n",
    "ax[0].set_xlabel('thresholds')\n",
    "ax[0].set_ylabel('Sensitivity + Specificity')\n",
    "\n",
    "ax[1].plot(thresholds, tp, label=\"tp\")\n",
    "ax[1].plot(thresholds, 1 - fp, label=\"1 - fp\")\n",
    "ax[1].legend()\n",
    "ax[1].set_xlabel('thresholds')\n",
    "ax[1].set_ylabel('True Positive & False Positive Rates')\n",
    "\n",
    "##finding the optimal threshold for the model\n",
    "function = tp + (1 - fp)\n",
    "index = np.argmax(function)\n",
    "\n",
    "optimal_threshold = thresholds[np.argmax(function)]\n",
    "print('optimal threshold:', optimal_threshold)"
   ]
  },
  {
   "cell_type": "code",
   "execution_count": 12,
   "metadata": {},
   "outputs": [
    {
     "data": {
      "text/plain": [
       "0.813"
      ]
     },
     "execution_count": 12,
     "metadata": {},
     "output_type": "execute_result"
    }
   ],
   "source": [
    "def binarize_by_threshold(values, threshold):\n",
    "     return (np.where(values >= threshold, 1, 0))\n",
    "\n",
    "y_pred = binarize_by_threshold(y_pred_prob, optimal_threshold)\n",
    "accuracy_score(y_test, y_pred)"
   ]
  },
  {
   "cell_type": "code",
   "execution_count": 13,
   "metadata": {},
   "outputs": [
    {
     "name": "stdout",
     "output_type": "stream",
     "text": [
      "              precision    recall  f1-score   support\n",
      "\n",
      "           0       0.96      0.82      0.89      1804\n",
      "           1       0.31      0.72      0.43       196\n",
      "\n",
      "   micro avg       0.81      0.81      0.81      2000\n",
      "   macro avg       0.64      0.77      0.66      2000\n",
      "weighted avg       0.90      0.81      0.84      2000\n",
      "\n"
     ]
    }
   ],
   "source": [
    "print(classification_report(y_test, y_pred))"
   ]
  },
  {
   "cell_type": "markdown",
   "metadata": {},
   "source": [
    "### Estimate AUC using Stratified Cross-Validation"
   ]
  },
  {
   "cell_type": "code",
   "execution_count": 14,
   "metadata": {},
   "outputs": [
    {
     "data": {
      "image/png": "[encoded data removed]",
      "text/plain": [
       "<Figure size 432x288 with 1 Axes>"
      ]
     },
     "metadata": {
      "needs_background": "light"
     },
     "output_type": "display_data"
    }
   ],
   "source": [
    "feature_cols = df.drop('outcome', axis=1).columns\n",
    "# Configure cross validation\n",
    "cv = StratifiedKFold(n_splits=5)\n",
    "\n",
    "# Create new plot\n",
    "plt.figure()\n",
    "\n",
    "# Get indices for training and test subsets for each fold\n",
    "for i, (training, testing) in enumerate(cv.split(df[feature_cols], df.outcome)):\n",
    "    \n",
    "    # Get training data\n",
    "    X_train = df[feature_cols].values[training, :]\n",
    "    y_train = df.outcome.values[training,]\n",
    "    \n",
    "    # Get test data\n",
    "    X_test = df[feature_cols].values[testing, :]\n",
    "    y_test = df.outcome.values[testing,]\n",
    "\n",
    "    # Configure classifier\n",
    "    clf = xgb.XGBClassifier(\n",
    "        objective = 'binary:logistic', \n",
    "        eval_metric = 'auc',\n",
    "        random_state = 1, \n",
    "        learning_rate = 0.05)\n",
    "    \n",
    "    # Learn classification model\n",
    "    eval_set = [(X_train, y_train), (X_test, y_test)]\n",
    "    clf.fit(X_train, y_train, early_stopping_rounds=10, eval_metric='auc', \n",
    "            eval_set=eval_set, verbose=False)\n",
    "    \n",
    "    # Get sample scores for ROC curve\n",
    "    y_score = clf.predict_proba(X_test)\n",
    "    \n",
    "    # Compute ROC metrics\n",
    "    false_positive_rate, true_positive_rate, thresholds = roc_curve(y_test, y_score[:, 1], pos_label=1)\n",
    "    roc_auc = auc(false_positive_rate, true_positive_rate)\n",
    "\n",
    "    # Plot ROC curve\n",
    "    plt.plot(false_positive_rate, true_positive_rate, label='AUC = %0.3f'% roc_auc)\n",
    "\n",
    "plt.title('Receiver Operating Characteristic')\n",
    "plt.legend(loc='lower right')\n",
    "plt.plot([0,1],[0,1],'r--')\n",
    "plt.xlim([-0.1,1.2])\n",
    "plt.ylim([-0.1,1.2])\n",
    "plt.ylabel('True Positive Rate')\n",
    "plt.xlabel('False Positive Rate')\n",
    "plt.show()"
   ]
  },
  {
   "cell_type": "markdown",
   "metadata": {},
   "source": [
    "### 4. Predict Test Output"
   ]
  },
  {
   "cell_type": "code",
   "execution_count": 15,
   "metadata": {},
   "outputs": [
    {
     "data": {
      "text/plain": [
       "array([0, 1, 0, 0, 0])"
      ]
     },
     "execution_count": 15,
     "metadata": {},
     "output_type": "execute_result"
    }
   ],
   "source": [
    "binarize_by_threshold(model.predict_proba(test_df)[:,1], optimal_threshold)[:5]"
   ]
  }
 ],
 "metadata": {
  "kernelspec": {
   "display_name": "Python 3",
   "language": "python",
   "name": "python3"
  },
  "language_info": {
   "codemirror_mode": {
    "name": "ipython",
    "version": 3
   },
   "file_extension": ".py",
   "mimetype": "text/x-python",
   "name": "python",
   "nbconvert_exporter": "python",
   "pygments_lexer": "ipython3",
   "version": "3.7.3"
  }
 },
 "nbformat": 4,
 "nbformat_minor": 2
}
